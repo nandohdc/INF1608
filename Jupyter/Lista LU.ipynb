{
 "cells": [
  {
   "cell_type": "markdown",
   "metadata": {
    "deletable": true,
    "editable": true
   },
   "source": [
    "## INF1608 - Análise Numérica - 2017.1\n",
    "## Departamento de Informática - PUC-Rio \n",
    "## Prof. Hélio Lopes - lopes@inf.puc-rio.br\n",
    "## http://www.inf.puc-rio.br/~lopes\n",
    "\n",
    "Nome: Mateus Ribeiro de Castro\n",
    "\n",
    "Matrícula: 1213068\n",
    "\n",
    "## Lista 1\n",
    "\n",
    "1) Faça a implementação da decomposição LU, cuja entrada é uma matriz A de tamanho nxn.\n",
    "\n",
    "2) Faça a implementação das funções LUforwardsub e da LUbackwardsub, cuja entrada é a decomposição LU de uma matriz A de tamanho nxn.\n",
    "\n",
    "3) Implemente a função LUsolve que resolve o sistema Ax=b, tendo em mão a deomposição A=LU.\n",
    "\n",
    "4) Teste muito bem todos esses algoritmos!"
   ]
  },
  {
   "cell_type": "code",
   "execution_count": 25,
   "metadata": {
    "collapsed": false,
    "deletable": true,
    "editable": true
   },
   "outputs": [],
   "source": [
    "import numpy as np\n",
    "import scipy as sc\n",
    "\n",
    "def LUdecomp(A):\n",
    "    n = len(A)\n",
    "    lu = np.copy(A)\n",
    "    for i in range(n-1):\n",
    "        for j in range(i+1,n):\n",
    "            lu[j][i] = lu[j][i]/lu[i][i]\n",
    "            for k in range(i+1,n):\n",
    "                lu[j][k] = lu[j][k] - lu[j][i]*lu[i][k]         \n",
    "    return lu\n",
    "\n",
    "def LUforwardsub (lu, b):\n",
    "    n = len(lu)\n",
    "    y = np.zeros(n)\n",
    "    for i in range(0,n-1):\n",
    "        y[i] = b[i]\n",
    "        for j in range(i):\n",
    "            y[i] = y[i] - lu[i][j]*y[i]\n",
    "    return y\n",
    "\n",
    "def LUbackwardsub(lu, y):\n",
    "    n = len(lu)\n",
    "    x = np.zeros(n)\n",
    "    x[n-1] = y[n-1]/lu[n-1,n-1]\n",
    "    for i in range(n-2,-1,-1):\n",
    "        x[i] = y[i]\n",
    "        for j in range(i+1, n):\n",
    "            x[i]= x[i] - lu[i][j]*x[j]\n",
    "        x[i] = x[i]/lu[i][i]\n",
    "    return x\n",
    "\n",
    "def LUsolve(lu, b):\n",
    "    y = LUforwardsub(lu, b)\n",
    "    x = LUbackwardsub(lu, y)\n",
    "    return x"
   ]
  },
  {
   "cell_type": "code",
   "execution_count": 33,
   "metadata": {
    "collapsed": false,
    "deletable": true,
    "editable": true
   },
   "outputs": [
    {
     "name": "stdout",
     "output_type": "stream",
     "text": [
      "Matriz A: \n",
      "[[4.0, 8, 15], [16, 23, 42], [1, 2, 3]]\n",
      "\n",
      "\n",
      "Decomposição LU de A:\n",
      "[[  4.     8.    15.  ]\n",
      " [  4.    -9.   -18.  ]\n",
      " [  0.25  -0.    -0.75]]\n",
      "\n",
      "\n",
      "Vetor b:\n",
      "[4, 5, 2]\n",
      "\n",
      "\n",
      "Resultado da LUforwardsub:\n",
      "[  4. -15.   0.]\n",
      "\n",
      "\n",
      "Resultado da LUbackwardsub:\n",
      "[-2.33333333  1.66666667 -0.        ]\n",
      "\n",
      "\n",
      "Resultado da SolveLU:\n",
      "[-2.33333333  1.66666667 -0.        ]\n"
     ]
    }
   ],
   "source": [
    "print(\"Matriz A: \")\n",
    "A = np.array = ([[4., 8, 15],[16, 23, 42],[1, 2, 3]])\n",
    "print(A)\n",
    "print(\"\\n\")\n",
    "\n",
    "print(\"Decomposição LU de A:\")\n",
    "LU = LUdecomp(A)\n",
    "print(LU)\n",
    "print(\"\\n\")\n",
    "\n",
    "print(\"Vetor b:\")\n",
    "b = np.array = ([4, 5, 2])\n",
    "print(b)\n",
    "print(\"\\n\")\n",
    "\n",
    "print(\"Resultado da LUforwardsub:\")\n",
    "y = LUforwardsub(LU, b)\n",
    "print(y)\n",
    "print(\"\\n\")\n",
    "\n",
    "print(\"Resultado da LUbackwardsub:\")\n",
    "x = LUbackwardsub(LU, y)\n",
    "print(x)\n",
    "print(\"\\n\")\n",
    "\n",
    "print(\"Resultado da LUsolve:\")\n",
    "result = LUsolve(LU, b)\n",
    "print(result)"
   ]
  }
 ],
 "metadata": {
  "kernelspec": {
   "display_name": "Python 3",
   "language": "python",
   "name": "python3"
  },
  "language_info": {
   "codemirror_mode": {
    "name": "ipython",
    "version": 3
   },
   "file_extension": ".py",
   "mimetype": "text/x-python",
   "name": "python",
   "nbconvert_exporter": "python",
   "pygments_lexer": "ipython3",
   "version": "3.6.0"
  }
 },
 "nbformat": 4,
 "nbformat_minor": 0
}
